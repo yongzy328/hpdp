{
  "cells": [
    {
      "cell_type": "markdown",
      "metadata": {
        "id": "view-in-github",
        "colab_type": "text"
      },
      "source": [
        "<a href=\"https://colab.research.google.com/github/yongzy328/hpdp/blob/main/Create_graph_from_data.ipynb\" target=\"_parent\"><img src=\"https://colab.research.google.com/assets/colab-badge.svg\" alt=\"Open In Colab\"/></a>"
      ]
    },
    {
      "cell_type": "markdown",
      "id": "a971cfa6",
      "metadata": {
        "id": "a971cfa6"
      },
      "source": [
        "# Summary of taxi trips taken in January 2017"
      ]
    },
    {
      "cell_type": "code",
      "execution_count": null,
      "id": "5a5dc9db",
      "metadata": {
        "id": "5a5dc9db"
      },
      "outputs": [],
      "source": [
        "import pandas as pd\n",
        "from bokeh.plotting import figure, output_file, show\n",
        "from bokeh.models import ColumnDataSource\n",
        "\n",
        "output_file('taxidata.html')\n",
        "df = pd.read_csv('/home/ec2-user/yellow_tripdata_2017-01.csv')\n",
        "sample = df.sample (50)\n",
        "source = ColumnDataSource(sample)\n",
        "p=figure()\n",
        "p.circle(x='passenger_count', y='total_amount', source=source, size=10, color='green')\n",
        "p.title.text = 'Taxi rides'\n",
        "p.xaxis.axis_label = \"Passengers\"\n",
        "p.yaxis.axis_label = \"Amount paid\"\n",
        "show(p)"
      ]
    },
    {
      "cell_type": "code",
      "execution_count": null,
      "id": "055b7cdc",
      "metadata": {
        "id": "055b7cdc"
      },
      "outputs": [],
      "source": []
    }
  ],
  "metadata": {
    "kernelspec": {
      "display_name": "conda_python3",
      "language": "python",
      "name": "conda_python3"
    },
    "language_info": {
      "codemirror_mode": {
        "name": "ipython",
        "version": 3
      },
      "file_extension": ".py",
      "mimetype": "text/x-python",
      "name": "python",
      "nbconvert_exporter": "python",
      "pygments_lexer": "ipython3",
      "version": "3.8.12"
    },
    "colab": {
      "provenance": [],
      "include_colab_link": true
    }
  },
  "nbformat": 4,
  "nbformat_minor": 5
}